{
 "cells": [
  {
   "cell_type": "code",
   "execution_count": 1,
   "metadata": {
    "collapsed": false
   },
   "outputs": [],
   "source": [
    "### This script is for Adv.BA Assignment 2, from team 3\n",
    "from __future__ import division\n",
    "from pandas import Series, DataFrame\n",
    "import pandas as pd\n",
    "import numpy as np\n",
    "import matplotlib.pyplot as plt\n",
    "from copy import deepcopy\n",
    "%matplotlib inline"
   ]
  },
  {
   "cell_type": "code",
   "execution_count": 2,
   "metadata": {
    "collapsed": false
   },
   "outputs": [],
   "source": [
    "## Step 1\n",
    "# load data\n",
    "import pickle\n",
    "pkl_file = open('02 bank data.pkl', 'rb')\n",
    "dataBM = pickle.load(pkl_file)\n",
    "pkl_file.close()"
   ]
  },
  {
   "cell_type": "code",
   "execution_count": 3,
   "metadata": {
    "collapsed": false
   },
   "outputs": [
    {
     "data": {
      "text/html": [
       "<div>\n",
       "<table border=\"1\" class=\"dataframe\">\n",
       "  <thead>\n",
       "    <tr style=\"text-align: right;\">\n",
       "      <th></th>\n",
       "      <th>age</th>\n",
       "      <th>job</th>\n",
       "      <th>marital</th>\n",
       "      <th>education</th>\n",
       "      <th>default</th>\n",
       "      <th>balance</th>\n",
       "      <th>mortgage</th>\n",
       "      <th>loan</th>\n",
       "      <th>contact</th>\n",
       "      <th>duration</th>\n",
       "      <th>number</th>\n",
       "      <th>pdays</th>\n",
       "      <th>previous</th>\n",
       "      <th>poutcome</th>\n",
       "      <th>date</th>\n",
       "      <th>cd</th>\n",
       "    </tr>\n",
       "  </thead>\n",
       "  <tbody>\n",
       "    <tr>\n",
       "      <th>0</th>\n",
       "      <td>58</td>\n",
       "      <td>management</td>\n",
       "      <td>married</td>\n",
       "      <td>tertiary</td>\n",
       "      <td>no</td>\n",
       "      <td>2143</td>\n",
       "      <td>yes</td>\n",
       "      <td>no</td>\n",
       "      <td>unknown</td>\n",
       "      <td>261</td>\n",
       "      <td>1</td>\n",
       "      <td>-1</td>\n",
       "      <td>0</td>\n",
       "      <td>unknown</td>\n",
       "      <td>2010-05-05</td>\n",
       "      <td>no</td>\n",
       "    </tr>\n",
       "    <tr>\n",
       "      <th>1</th>\n",
       "      <td>44</td>\n",
       "      <td>technician</td>\n",
       "      <td>single</td>\n",
       "      <td>secondary</td>\n",
       "      <td>no</td>\n",
       "      <td>29</td>\n",
       "      <td>yes</td>\n",
       "      <td>no</td>\n",
       "      <td>unknown</td>\n",
       "      <td>151</td>\n",
       "      <td>1</td>\n",
       "      <td>-1</td>\n",
       "      <td>0</td>\n",
       "      <td>unknown</td>\n",
       "      <td>2010-05-05</td>\n",
       "      <td>no</td>\n",
       "    </tr>\n",
       "    <tr>\n",
       "      <th>2</th>\n",
       "      <td>33</td>\n",
       "      <td>entrepreneur</td>\n",
       "      <td>married</td>\n",
       "      <td>secondary</td>\n",
       "      <td>no</td>\n",
       "      <td>2</td>\n",
       "      <td>yes</td>\n",
       "      <td>yes</td>\n",
       "      <td>unknown</td>\n",
       "      <td>76</td>\n",
       "      <td>1</td>\n",
       "      <td>-1</td>\n",
       "      <td>0</td>\n",
       "      <td>unknown</td>\n",
       "      <td>2010-05-05</td>\n",
       "      <td>no</td>\n",
       "    </tr>\n",
       "    <tr>\n",
       "      <th>3</th>\n",
       "      <td>47</td>\n",
       "      <td>blue-collar</td>\n",
       "      <td>married</td>\n",
       "      <td>unknown</td>\n",
       "      <td>no</td>\n",
       "      <td>1506</td>\n",
       "      <td>yes</td>\n",
       "      <td>no</td>\n",
       "      <td>unknown</td>\n",
       "      <td>92</td>\n",
       "      <td>1</td>\n",
       "      <td>-1</td>\n",
       "      <td>0</td>\n",
       "      <td>unknown</td>\n",
       "      <td>2010-05-05</td>\n",
       "      <td>no</td>\n",
       "    </tr>\n",
       "    <tr>\n",
       "      <th>4</th>\n",
       "      <td>33</td>\n",
       "      <td>unknown</td>\n",
       "      <td>single</td>\n",
       "      <td>unknown</td>\n",
       "      <td>no</td>\n",
       "      <td>1</td>\n",
       "      <td>no</td>\n",
       "      <td>no</td>\n",
       "      <td>unknown</td>\n",
       "      <td>198</td>\n",
       "      <td>1</td>\n",
       "      <td>-1</td>\n",
       "      <td>0</td>\n",
       "      <td>unknown</td>\n",
       "      <td>2010-05-05</td>\n",
       "      <td>no</td>\n",
       "    </tr>\n",
       "  </tbody>\n",
       "</table>\n",
       "</div>"
      ],
      "text/plain": [
       "   age           job  marital  education default  balance mortgage loan  \\\n",
       "0   58    management  married   tertiary      no     2143      yes   no   \n",
       "1   44    technician   single  secondary      no       29      yes   no   \n",
       "2   33  entrepreneur  married  secondary      no        2      yes  yes   \n",
       "3   47   blue-collar  married    unknown      no     1506      yes   no   \n",
       "4   33       unknown   single    unknown      no        1       no   no   \n",
       "\n",
       "   contact  duration  number  pdays  previous poutcome       date  cd  \n",
       "0  unknown       261       1     -1         0  unknown 2010-05-05  no  \n",
       "1  unknown       151       1     -1         0  unknown 2010-05-05  no  \n",
       "2  unknown        76       1     -1         0  unknown 2010-05-05  no  \n",
       "3  unknown        92       1     -1         0  unknown 2010-05-05  no  \n",
       "4  unknown       198       1     -1         0  unknown 2010-05-05  no  "
      ]
     },
     "execution_count": 3,
     "metadata": {},
     "output_type": "execute_result"
    }
   ],
   "source": [
    "# get familiar with data structure\n",
    "dataBM.head()"
   ]
  },
  {
   "cell_type": "code",
   "execution_count": 4,
   "metadata": {
    "collapsed": false
   },
   "outputs": [
    {
     "data": {
      "text/plain": [
       "age                   int64\n",
       "job                category\n",
       "marital            category\n",
       "education          category\n",
       "default            category\n",
       "balance               int64\n",
       "mortgage           category\n",
       "loan               category\n",
       "contact            category\n",
       "duration              int64\n",
       "number                int64\n",
       "pdays                 int64\n",
       "previous              int64\n",
       "poutcome           category\n",
       "date         datetime64[ns]\n",
       "cd                 category\n",
       "dtype: object"
      ]
     },
     "execution_count": 4,
     "metadata": {},
     "output_type": "execute_result"
    }
   ],
   "source": [
    "# check data types of all columns\n",
    "dataBM.dtypes"
   ]
  },
  {
   "cell_type": "code",
   "execution_count": 3,
   "metadata": {
    "collapsed": false
   },
   "outputs": [
    {
     "data": {
      "text/html": [
       "<div>\n",
       "<table border=\"1\" class=\"dataframe\">\n",
       "  <thead>\n",
       "    <tr style=\"text-align: right;\">\n",
       "      <th></th>\n",
       "      <th>age</th>\n",
       "      <th>job</th>\n",
       "      <th>marital</th>\n",
       "      <th>education</th>\n",
       "      <th>default</th>\n",
       "      <th>balance</th>\n",
       "      <th>mortgage</th>\n",
       "      <th>loan</th>\n",
       "      <th>contact</th>\n",
       "      <th>duration</th>\n",
       "      <th>number</th>\n",
       "      <th>pdays</th>\n",
       "      <th>previous</th>\n",
       "      <th>poutcome</th>\n",
       "      <th>date</th>\n",
       "      <th>cd</th>\n",
       "    </tr>\n",
       "  </thead>\n",
       "  <tbody>\n",
       "    <tr>\n",
       "      <th>0</th>\n",
       "      <td>58</td>\n",
       "      <td>4</td>\n",
       "      <td>1</td>\n",
       "      <td>2</td>\n",
       "      <td>0</td>\n",
       "      <td>2143</td>\n",
       "      <td>1</td>\n",
       "      <td>0</td>\n",
       "      <td>2</td>\n",
       "      <td>261</td>\n",
       "      <td>1</td>\n",
       "      <td>-1</td>\n",
       "      <td>0</td>\n",
       "      <td>3</td>\n",
       "      <td>2010-05-05</td>\n",
       "      <td>0</td>\n",
       "    </tr>\n",
       "    <tr>\n",
       "      <th>1</th>\n",
       "      <td>44</td>\n",
       "      <td>9</td>\n",
       "      <td>2</td>\n",
       "      <td>1</td>\n",
       "      <td>0</td>\n",
       "      <td>29</td>\n",
       "      <td>1</td>\n",
       "      <td>0</td>\n",
       "      <td>2</td>\n",
       "      <td>151</td>\n",
       "      <td>1</td>\n",
       "      <td>-1</td>\n",
       "      <td>0</td>\n",
       "      <td>3</td>\n",
       "      <td>2010-05-05</td>\n",
       "      <td>0</td>\n",
       "    </tr>\n",
       "    <tr>\n",
       "      <th>2</th>\n",
       "      <td>33</td>\n",
       "      <td>2</td>\n",
       "      <td>1</td>\n",
       "      <td>1</td>\n",
       "      <td>0</td>\n",
       "      <td>2</td>\n",
       "      <td>1</td>\n",
       "      <td>1</td>\n",
       "      <td>2</td>\n",
       "      <td>76</td>\n",
       "      <td>1</td>\n",
       "      <td>-1</td>\n",
       "      <td>0</td>\n",
       "      <td>3</td>\n",
       "      <td>2010-05-05</td>\n",
       "      <td>0</td>\n",
       "    </tr>\n",
       "    <tr>\n",
       "      <th>3</th>\n",
       "      <td>47</td>\n",
       "      <td>1</td>\n",
       "      <td>1</td>\n",
       "      <td>3</td>\n",
       "      <td>0</td>\n",
       "      <td>1506</td>\n",
       "      <td>1</td>\n",
       "      <td>0</td>\n",
       "      <td>2</td>\n",
       "      <td>92</td>\n",
       "      <td>1</td>\n",
       "      <td>-1</td>\n",
       "      <td>0</td>\n",
       "      <td>3</td>\n",
       "      <td>2010-05-05</td>\n",
       "      <td>0</td>\n",
       "    </tr>\n",
       "    <tr>\n",
       "      <th>4</th>\n",
       "      <td>33</td>\n",
       "      <td>11</td>\n",
       "      <td>2</td>\n",
       "      <td>3</td>\n",
       "      <td>0</td>\n",
       "      <td>1</td>\n",
       "      <td>0</td>\n",
       "      <td>0</td>\n",
       "      <td>2</td>\n",
       "      <td>198</td>\n",
       "      <td>1</td>\n",
       "      <td>-1</td>\n",
       "      <td>0</td>\n",
       "      <td>3</td>\n",
       "      <td>2010-05-05</td>\n",
       "      <td>0</td>\n",
       "    </tr>\n",
       "  </tbody>\n",
       "</table>\n",
       "</div>"
      ],
      "text/plain": [
       "   age  job  marital  education  default  balance  mortgage  loan  contact  \\\n",
       "0   58    4        1          2        0     2143         1     0        2   \n",
       "1   44    9        2          1        0       29         1     0        2   \n",
       "2   33    2        1          1        0        2         1     1        2   \n",
       "3   47    1        1          3        0     1506         1     0        2   \n",
       "4   33   11        2          3        0        1         0     0        2   \n",
       "\n",
       "   duration  number  pdays  previous  poutcome       date  cd  \n",
       "0       261       1     -1         0         3 2010-05-05   0  \n",
       "1       151       1     -1         0         3 2010-05-05   0  \n",
       "2        76       1     -1         0         3 2010-05-05   0  \n",
       "3        92       1     -1         0         3 2010-05-05   0  \n",
       "4       198       1     -1         0         3 2010-05-05   0  "
      ]
     },
     "execution_count": 3,
     "metadata": {},
     "output_type": "execute_result"
    }
   ],
   "source": [
    "## Step 2\n",
    "# convert all the categorical columns to integer\n",
    "from sklearn.preprocessing import LabelEncoder # for label conversion\n",
    "for x in ['job','marital','education','default','mortgage','loan','contact','poutcome','cd']:\n",
    "    dataBM[x] = LabelEncoder().fit_transform(dataBM[x])\n",
    "dataBM.head()"
   ]
  },
  {
   "cell_type": "code",
   "execution_count": 4,
   "metadata": {
    "collapsed": false
   },
   "outputs": [
    {
     "data": {
      "text/html": [
       "<div>\n",
       "<table border=\"1\" class=\"dataframe\">\n",
       "  <thead>\n",
       "    <tr style=\"text-align: right;\">\n",
       "      <th></th>\n",
       "      <th>age</th>\n",
       "      <th>job</th>\n",
       "      <th>marital</th>\n",
       "      <th>education</th>\n",
       "      <th>default</th>\n",
       "      <th>balance</th>\n",
       "      <th>mortgage</th>\n",
       "      <th>loan</th>\n",
       "      <th>contact</th>\n",
       "      <th>duration</th>\n",
       "      <th>number</th>\n",
       "      <th>pdays</th>\n",
       "      <th>previous</th>\n",
       "      <th>poutcome</th>\n",
       "      <th>date</th>\n",
       "      <th>cd</th>\n",
       "    </tr>\n",
       "  </thead>\n",
       "  <tbody>\n",
       "    <tr>\n",
       "      <th>0</th>\n",
       "      <td>58</td>\n",
       "      <td>4</td>\n",
       "      <td>1</td>\n",
       "      <td>2</td>\n",
       "      <td>0</td>\n",
       "      <td>2143</td>\n",
       "      <td>1</td>\n",
       "      <td>0</td>\n",
       "      <td>2</td>\n",
       "      <td>261</td>\n",
       "      <td>1</td>\n",
       "      <td>-1</td>\n",
       "      <td>0</td>\n",
       "      <td>3</td>\n",
       "      <td>125</td>\n",
       "      <td>0</td>\n",
       "    </tr>\n",
       "    <tr>\n",
       "      <th>1</th>\n",
       "      <td>44</td>\n",
       "      <td>9</td>\n",
       "      <td>2</td>\n",
       "      <td>1</td>\n",
       "      <td>0</td>\n",
       "      <td>29</td>\n",
       "      <td>1</td>\n",
       "      <td>0</td>\n",
       "      <td>2</td>\n",
       "      <td>151</td>\n",
       "      <td>1</td>\n",
       "      <td>-1</td>\n",
       "      <td>0</td>\n",
       "      <td>3</td>\n",
       "      <td>125</td>\n",
       "      <td>0</td>\n",
       "    </tr>\n",
       "    <tr>\n",
       "      <th>2</th>\n",
       "      <td>33</td>\n",
       "      <td>2</td>\n",
       "      <td>1</td>\n",
       "      <td>1</td>\n",
       "      <td>0</td>\n",
       "      <td>2</td>\n",
       "      <td>1</td>\n",
       "      <td>1</td>\n",
       "      <td>2</td>\n",
       "      <td>76</td>\n",
       "      <td>1</td>\n",
       "      <td>-1</td>\n",
       "      <td>0</td>\n",
       "      <td>3</td>\n",
       "      <td>125</td>\n",
       "      <td>0</td>\n",
       "    </tr>\n",
       "    <tr>\n",
       "      <th>3</th>\n",
       "      <td>47</td>\n",
       "      <td>1</td>\n",
       "      <td>1</td>\n",
       "      <td>3</td>\n",
       "      <td>0</td>\n",
       "      <td>1506</td>\n",
       "      <td>1</td>\n",
       "      <td>0</td>\n",
       "      <td>2</td>\n",
       "      <td>92</td>\n",
       "      <td>1</td>\n",
       "      <td>-1</td>\n",
       "      <td>0</td>\n",
       "      <td>3</td>\n",
       "      <td>125</td>\n",
       "      <td>0</td>\n",
       "    </tr>\n",
       "    <tr>\n",
       "      <th>4</th>\n",
       "      <td>33</td>\n",
       "      <td>11</td>\n",
       "      <td>2</td>\n",
       "      <td>3</td>\n",
       "      <td>0</td>\n",
       "      <td>1</td>\n",
       "      <td>0</td>\n",
       "      <td>0</td>\n",
       "      <td>2</td>\n",
       "      <td>198</td>\n",
       "      <td>1</td>\n",
       "      <td>-1</td>\n",
       "      <td>0</td>\n",
       "      <td>3</td>\n",
       "      <td>125</td>\n",
       "      <td>0</td>\n",
       "    </tr>\n",
       "  </tbody>\n",
       "</table>\n",
       "</div>"
      ],
      "text/plain": [
       "   age  job  marital  education  default  balance  mortgage  loan  contact  \\\n",
       "0   58    4        1          2        0     2143         1     0        2   \n",
       "1   44    9        2          1        0       29         1     0        2   \n",
       "2   33    2        1          1        0        2         1     1        2   \n",
       "3   47    1        1          3        0     1506         1     0        2   \n",
       "4   33   11        2          3        0        1         0     0        2   \n",
       "\n",
       "   duration  number  pdays  previous  poutcome  date  cd  \n",
       "0       261       1     -1         0         3   125   0  \n",
       "1       151       1     -1         0         3   125   0  \n",
       "2        76       1     -1         0         3   125   0  \n",
       "3        92       1     -1         0         3   125   0  \n",
       "4       198       1     -1         0         3   125   0  "
      ]
     },
     "execution_count": 4,
     "metadata": {},
     "output_type": "execute_result"
    }
   ],
   "source": [
    "# convert the timestamp into integer day of the year\n",
    "dataBM['date'] = dataBM['date'].dt.dayofyear\n",
    "dataBM.head()"
   ]
  },
  {
   "cell_type": "code",
   "execution_count": 7,
   "metadata": {
    "collapsed": false
   },
   "outputs": [
    {
     "data": {
      "text/plain": [
       "age          int64\n",
       "job          int64\n",
       "marital      int64\n",
       "education    int64\n",
       "default      int64\n",
       "balance      int64\n",
       "mortgage     int64\n",
       "loan         int64\n",
       "contact      int64\n",
       "duration     int64\n",
       "number       int64\n",
       "pdays        int64\n",
       "previous     int64\n",
       "poutcome     int64\n",
       "date         int64\n",
       "cd           int64\n",
       "dtype: object"
      ]
     },
     "execution_count": 7,
     "metadata": {},
     "output_type": "execute_result"
    }
   ],
   "source": [
    "# check all data types of columns now\n",
    "dataBM.dtypes"
   ]
  },
  {
   "cell_type": "code",
   "execution_count": 5,
   "metadata": {
    "collapsed": true
   },
   "outputs": [],
   "source": [
    "## Step 3\n",
    "# Use train_test_split to create the test and train samples with test_size=0.2 and random_state=102.\n",
    "from sklearn.cross_validation import train_test_split "
   ]
  },
  {
   "cell_type": "code",
   "execution_count": 6,
   "metadata": {
    "collapsed": false
   },
   "outputs": [],
   "source": [
    "# First create empty matrix\n",
    "X = dataBM.ix[:,0:-1].as_matrix()\n",
    "y = dataBM.cd.as_matrix()"
   ]
  },
  {
   "cell_type": "code",
   "execution_count": 7,
   "metadata": {
    "collapsed": true
   },
   "outputs": [],
   "source": [
    "# get train and test samples\n",
    "X_train, X_test, y_train, y_test = train_test_split(X, y, test_size=0.2, random_state=102)"
   ]
  },
  {
   "cell_type": "code",
   "execution_count": 8,
   "metadata": {
    "collapsed": false
   },
   "outputs": [
    {
     "name": "stdout",
     "output_type": "stream",
     "text": [
      "Fitting 10 folds for each of 63 candidates, totalling 630 fits\n"
     ]
    },
    {
     "name": "stderr",
     "output_type": "stream",
     "text": [
      "[Parallel(n_jobs=-1)]: Done  42 tasks      | elapsed:    2.2s\n",
      "[Parallel(n_jobs=-1)]: Done 192 tasks      | elapsed:    9.9s\n",
      "[Parallel(n_jobs=-1)]: Done 442 tasks      | elapsed:   25.2s\n",
      "[Parallel(n_jobs=-1)]: Done 630 out of 630 | elapsed:   38.1s finished\n"
     ]
    },
    {
     "name": "stdout",
     "output_type": "stream",
     "text": [
      "Best score: 0.544\n",
      "Best parameters set:\n",
      "\\ tdtree__max_depth: 9\n",
      "\\ tdtree__min_samples_leaf: 3\n",
      "\\ tdtree__min_samples_split: 1\n",
      "\n",
      "\n",
      " f1 Score: 0.544207752812 \n",
      "\n",
      "             precision    recall  f1-score   support\n",
      "\n",
      "          0       0.94      0.95      0.95      8019\n",
      "          1       0.58      0.50      0.54      1024\n",
      "\n",
      "avg / total       0.90      0.90      0.90      9043\n",
      "\n",
      "elaplsed time  38.3400909901\n"
     ]
    }
   ],
   "source": [
    "## Step 4\n",
    "# Use Pipeline, and GridSearchCV to build an effective tree using cross validation.\n",
    "from sklearn.tree import DecisionTreeClassifier\n",
    "from sklearn.pipeline import Pipeline \n",
    "from sklearn.grid_search import GridSearchCV\n",
    "from sklearn.metrics import classification_report, accuracy_score\n",
    "import time\n",
    "pipeline = Pipeline([(\"dtree\", DecisionTreeClassifier())])\n",
    "# parameters pool\n",
    "parameters = { 'dtree__max_depth': (7, 8, 9, 10, 11, 12, 13),\\\n",
    "              'dtree__min_samples_split': (1, 2, 3),\\\n",
    "              'dtree__min_samples_leaf': (1, 2, 3) }\n",
    "# Searching best parameters\n",
    "start_time = time.time()\n",
    "grid_search = GridSearchCV(pipeline, parameters, n_jobs =-1, verbose = 1,\\\n",
    "                           scoring ='f1', cv=10)\n",
    "grid_search.fit(X_train, y_train) \n",
    "# print results\n",
    "print 'Best score: %0.3f' % grid_search.best_score_ \n",
    "print 'Best parameters set:' \n",
    "best_parameters = grid_search.best_estimator_.get_params() \n",
    "for param_name in sorted(parameters.keys()): \n",
    "    print '\\ t% s: %r' % (param_name, best_parameters[ param_name]) \n",
    "predictions = grid_search.predict(X_test) \n",
    "print \"\\n\\n f1 Score:\", grid_search.best_score_, '\\n\\n', classification_report(y_test, predictions)\n",
    "print \"elaplsed time \", time.time() - start_time"
   ]
  },
  {
   "cell_type": "code",
   "execution_count": 9,
   "metadata": {
    "collapsed": false
   },
   "outputs": [
    {
     "data": {
      "text/html": [
       "<div>\n",
       "<table border=\"1\" class=\"dataframe\">\n",
       "  <thead>\n",
       "    <tr style=\"text-align: right;\">\n",
       "      <th></th>\n",
       "      <th>0</th>\n",
       "      <th>1</th>\n",
       "      <th>2</th>\n",
       "      <th>3</th>\n",
       "      <th>4</th>\n",
       "      <th>5</th>\n",
       "      <th>6</th>\n",
       "      <th>7</th>\n",
       "      <th>8</th>\n",
       "      <th>9</th>\n",
       "      <th>10</th>\n",
       "      <th>11</th>\n",
       "      <th>12</th>\n",
       "      <th>13</th>\n",
       "      <th>14</th>\n",
       "      <th>15</th>\n",
       "    </tr>\n",
       "  </thead>\n",
       "  <tbody>\n",
       "    <tr>\n",
       "      <th>0</th>\n",
       "      <td>38</td>\n",
       "      <td>0</td>\n",
       "      <td>1</td>\n",
       "      <td>1</td>\n",
       "      <td>0</td>\n",
       "      <td>981</td>\n",
       "      <td>1</td>\n",
       "      <td>1</td>\n",
       "      <td>0</td>\n",
       "      <td>134</td>\n",
       "      <td>2</td>\n",
       "      <td>-1</td>\n",
       "      <td>0</td>\n",
       "      <td>3</td>\n",
       "      <td>128</td>\n",
       "      <td>0</td>\n",
       "    </tr>\n",
       "    <tr>\n",
       "      <th>1</th>\n",
       "      <td>33</td>\n",
       "      <td>1</td>\n",
       "      <td>1</td>\n",
       "      <td>0</td>\n",
       "      <td>1</td>\n",
       "      <td>0</td>\n",
       "      <td>1</td>\n",
       "      <td>0</td>\n",
       "      <td>0</td>\n",
       "      <td>675</td>\n",
       "      <td>1</td>\n",
       "      <td>-1</td>\n",
       "      <td>0</td>\n",
       "      <td>3</td>\n",
       "      <td>325</td>\n",
       "      <td>0</td>\n",
       "    </tr>\n",
       "    <tr>\n",
       "      <th>2</th>\n",
       "      <td>32</td>\n",
       "      <td>9</td>\n",
       "      <td>2</td>\n",
       "      <td>1</td>\n",
       "      <td>0</td>\n",
       "      <td>0</td>\n",
       "      <td>0</td>\n",
       "      <td>0</td>\n",
       "      <td>0</td>\n",
       "      <td>126</td>\n",
       "      <td>2</td>\n",
       "      <td>-1</td>\n",
       "      <td>0</td>\n",
       "      <td>3</td>\n",
       "      <td>233</td>\n",
       "      <td>0</td>\n",
       "    </tr>\n",
       "    <tr>\n",
       "      <th>3</th>\n",
       "      <td>42</td>\n",
       "      <td>4</td>\n",
       "      <td>1</td>\n",
       "      <td>1</td>\n",
       "      <td>0</td>\n",
       "      <td>1331</td>\n",
       "      <td>0</td>\n",
       "      <td>0</td>\n",
       "      <td>0</td>\n",
       "      <td>698</td>\n",
       "      <td>2</td>\n",
       "      <td>-1</td>\n",
       "      <td>0</td>\n",
       "      <td>3</td>\n",
       "      <td>204</td>\n",
       "      <td>0</td>\n",
       "    </tr>\n",
       "    <tr>\n",
       "      <th>4</th>\n",
       "      <td>40</td>\n",
       "      <td>7</td>\n",
       "      <td>1</td>\n",
       "      <td>1</td>\n",
       "      <td>0</td>\n",
       "      <td>900</td>\n",
       "      <td>1</td>\n",
       "      <td>1</td>\n",
       "      <td>0</td>\n",
       "      <td>84</td>\n",
       "      <td>2</td>\n",
       "      <td>-1</td>\n",
       "      <td>0</td>\n",
       "      <td>3</td>\n",
       "      <td>195</td>\n",
       "      <td>0</td>\n",
       "    </tr>\n",
       "  </tbody>\n",
       "</table>\n",
       "</div>"
      ],
      "text/plain": [
       "   0   1   2   3   4     5   6   7   8    9   10  11  12  13   14  15\n",
       "0  38   0   1   1   0   981   1   1   0  134   2  -1   0   3  128   0\n",
       "1  33   1   1   0   1     0   1   0   0  675   1  -1   0   3  325   0\n",
       "2  32   9   2   1   0     0   0   0   0  126   2  -1   0   3  233   0\n",
       "3  42   4   1   1   0  1331   0   0   0  698   2  -1   0   3  204   0\n",
       "4  40   7   1   1   0   900   1   1   0   84   2  -1   0   3  195   0"
      ]
     },
     "execution_count": 9,
     "metadata": {},
     "output_type": "execute_result"
    }
   ],
   "source": [
    "## Step 5\n",
    "# create a subset of the training data set that is balanced\n",
    "# a.reconvert the X_train and y_train matrices to a dataframe.\n",
    "dataBalance = []\n",
    "dataBalance = np.column_stack((X_train, y_train))\n",
    "xydf = DataFrame(dataBalance)\n",
    "xydf.head()"
   ]
  },
  {
   "cell_type": "code",
   "execution_count": 10,
   "metadata": {
    "collapsed": false
   },
   "outputs": [
    {
     "name": "stdout",
     "output_type": "stream",
     "text": [
      "15    4265\n",
      "dtype: int64\n",
      "15    31903\n",
      "dtype: int64\n",
      "15    0.133686\n",
      "dtype: float64\n"
     ]
    }
   ],
   "source": [
    "# stats of class variable\n",
    "num_yes = (xydf[[15]] == 1).sum()\n",
    "num_no = (xydf[[15]] == 0).sum()\n",
    "prop = num_yes/num_no\n",
    "print num_yes\n",
    "print num_no\n",
    "print prop\n"
   ]
  },
  {
   "cell_type": "code",
   "execution_count": 11,
   "metadata": {
    "collapsed": false
   },
   "outputs": [
    {
     "name": "stdout",
     "output_type": "stream",
     "text": [
      "y_yes (4265, 1)\n",
      "y_no (31903, 1)\n",
      "X_yes (4265, 15)\n",
      "X_no (31903, 15)\n"
     ]
    }
   ],
   "source": [
    "# b.Split the dataframe xydf using Boolean conditions into X and y parts that correspond to yes and no classes\n",
    "y_yes = xydf.ix[xydf[15] == 1][[15]]\n",
    "y_no = xydf.ix[xydf[15] == 0][[15]]\n",
    "X_yes = xydf.ix[xydf[15] == 1][range(0,15)]\n",
    "X_no = xydf.ix[xydf[15] == 0][range(0,15)]\n",
    "print 'y_yes', y_yes.shape\n",
    "print 'y_no', y_no.shape\n",
    "print 'X_yes', X_yes.shape\n",
    "print 'X_no', X_no.shape"
   ]
  },
  {
   "cell_type": "code",
   "execution_count": 12,
   "metadata": {
    "collapsed": false
   },
   "outputs": [],
   "source": [
    "# c.Select a sub-sample from X_no and y_no of size equal to the number of X_yes and y_yes\n",
    "drop1, X_bno, drop2, y_bno = train_test_split(X_no, y_no, test_size=0.133686, random_state=122)\n"
   ]
  },
  {
   "cell_type": "code",
   "execution_count": 13,
   "metadata": {
    "collapsed": false
   },
   "outputs": [
    {
     "name": "stdout",
     "output_type": "stream",
     "text": [
      "(8530, 15)\n",
      "(8530, 1)\n"
     ]
    }
   ],
   "source": [
    "# d.Combine (X_yes and X_bno), and (y_yes and y_bno) to make a new training sample that is balanced.\n",
    "X_train_adjust = pd.concat([X_yes, X_bno], axis=0)\n",
    "y_train_adjust = pd.concat([y_yes, y_bno], axis=0)\n",
    "    # X_train_adjust = DataFrame.as_matrix(X_train_adjust)\n",
    "    # y_train_adjust = DataFrame.as_matrix(y_train_adjust)\n",
    "print X_train_adjust.shape\n",
    "print y_train_adjust.shape"
   ]
  },
  {
   "cell_type": "code",
   "execution_count": 14,
   "metadata": {
    "collapsed": false
   },
   "outputs": [],
   "source": [
    "X_train_adjust = X_train_adjust.values\n",
    "y_train_adjust = y_train_adjust.values.flatten()"
   ]
  },
  {
   "cell_type": "code",
   "execution_count": 16,
   "metadata": {
    "collapsed": false
   },
   "outputs": [
    {
     "name": "stdout",
     "output_type": "stream",
     "text": [
      "Fitting 10 folds for each of 63 candidates, totalling 630 fits\n"
     ]
    },
    {
     "name": "stderr",
     "output_type": "stream",
     "text": [
      "[Parallel(n_jobs=-1)]: Done 144 tasks      | elapsed:    1.8s\n",
      "[Parallel(n_jobs=-1)]: Done 630 out of 630 | elapsed:    8.6s finished\n"
     ]
    },
    {
     "name": "stdout",
     "output_type": "stream",
     "text": [
      "Best score: 0.838\n",
      "Best parameters set:\n",
      "\\ tdtree__max_depth: 9\n",
      "\\ tdtree__min_samples_leaf: 1\n",
      "\\ tdtree__min_samples_split: 1\n",
      "\n",
      "\n",
      " f1 Score: 0.838364046994 \n",
      "\n",
      "             precision    recall  f1-score   support\n",
      "\n",
      "          0       0.97      0.82      0.89      8019\n",
      "          1       0.37      0.83      0.51      1024\n",
      "\n",
      "avg / total       0.91      0.82      0.85      9043\n",
      "\n",
      "elaplsed time  8.78673005104\n"
     ]
    }
   ],
   "source": [
    "## Step 6\n",
    "# Redo step 4, except that this time use the balanced sample.\n",
    "pipeline = Pipeline([(\"dtree\", DecisionTreeClassifier())])\n",
    "# parameters pool\n",
    "parameters = {'dtree__max_depth': (7, 8, 9, 10, 11, 12, 13),\\\n",
    "              'dtree__min_samples_split': (1, 2, 3),\\\n",
    "              'dtree__min_samples_leaf': (1, 2, 3) }\n",
    "# Searching best parameters\n",
    "start_time = time.time()\n",
    "grid_search = GridSearchCV(pipeline, parameters, n_jobs =-1, verbose = 1,\\\n",
    "                           scoring ='f1', cv=10)\n",
    "grid_search.fit(X_train_adjust, y_train_adjust) \n",
    "# print results\n",
    "print 'Best score: %0.3f' % grid_search.best_score_ \n",
    "print 'Best parameters set:' \n",
    "best_parameters = grid_search.best_estimator_.get_params() \n",
    "for param_name in sorted(parameters.keys()): \n",
    "    print '\\ t% s: %r' % (param_name, best_parameters[ param_name]) \n",
    "predictions = grid_search.predict(X_test) \n",
    "print \"\\n\\n f1 Score:\", grid_search.best_score_, '\\n\\n', classification_report(y_test, predictions)\n",
    "print \"elaplsed time \", time.time() - start_time"
   ]
  },
  {
   "cell_type": "code",
   "execution_count": null,
   "metadata": {
    "collapsed": true
   },
   "outputs": [],
   "source": []
  }
 ],
 "metadata": {
  "kernelspec": {
   "display_name": "Python 2",
   "language": "python",
   "name": "python2"
  },
  "language_info": {
   "codemirror_mode": {
    "name": "ipython",
    "version": 2
   },
   "file_extension": ".py",
   "mimetype": "text/x-python",
   "name": "python",
   "nbconvert_exporter": "python",
   "pygments_lexer": "ipython2",
   "version": "2.7.11"
  }
 },
 "nbformat": 4,
 "nbformat_minor": 0
}
